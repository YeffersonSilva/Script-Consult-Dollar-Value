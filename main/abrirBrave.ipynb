{
 "cells": [
  {
   "cell_type": "code",
   "execution_count": 4,
   "metadata": {},
   "outputs": [
    {
     "name": "stdout",
     "output_type": "stream",
     "text": [
      "Requirement already satisfied: pyautogui in c:\\users\\macar\\appdata\\local\\packages\\pythonsoftwarefoundation.python.3.11_qbz5n2kfra8p0\\localcache\\local-packages\\python311\\site-packages (0.9.54)\n",
      "Requirement already satisfied: pymsgbox in c:\\users\\macar\\appdata\\local\\packages\\pythonsoftwarefoundation.python.3.11_qbz5n2kfra8p0\\localcache\\local-packages\\python311\\site-packages (from pyautogui) (1.0.9)\n",
      "Requirement already satisfied: pytweening>=1.0.4 in c:\\users\\macar\\appdata\\local\\packages\\pythonsoftwarefoundation.python.3.11_qbz5n2kfra8p0\\localcache\\local-packages\\python311\\site-packages (from pyautogui) (1.0.7)\n",
      "Requirement already satisfied: pyscreeze>=0.1.21 in c:\\users\\macar\\appdata\\local\\packages\\pythonsoftwarefoundation.python.3.11_qbz5n2kfra8p0\\localcache\\local-packages\\python311\\site-packages (from pyautogui) (0.1.30)\n",
      "Requirement already satisfied: pygetwindow>=0.0.5 in c:\\users\\macar\\appdata\\local\\packages\\pythonsoftwarefoundation.python.3.11_qbz5n2kfra8p0\\localcache\\local-packages\\python311\\site-packages (from pyautogui) (0.0.9)\n",
      "Requirement already satisfied: mouseinfo in c:\\users\\macar\\appdata\\local\\packages\\pythonsoftwarefoundation.python.3.11_qbz5n2kfra8p0\\localcache\\local-packages\\python311\\site-packages (from pyautogui) (0.1.3)\n",
      "Requirement already satisfied: pyrect in c:\\users\\macar\\appdata\\local\\packages\\pythonsoftwarefoundation.python.3.11_qbz5n2kfra8p0\\localcache\\local-packages\\python311\\site-packages (from pygetwindow>=0.0.5->pyautogui) (0.2.0)\n",
      "Requirement already satisfied: Pillow>=9.3.0 in c:\\users\\macar\\appdata\\local\\packages\\pythonsoftwarefoundation.python.3.11_qbz5n2kfra8p0\\localcache\\local-packages\\python311\\site-packages (from pyscreeze>=0.1.21->pyautogui) (10.2.0)\n",
      "Requirement already satisfied: pyperclip in c:\\users\\macar\\appdata\\local\\packages\\pythonsoftwarefoundation.python.3.11_qbz5n2kfra8p0\\localcache\\local-packages\\python311\\site-packages (from mouseinfo->pyautogui) (1.8.2)\n"
     ]
    },
    {
     "name": "stderr",
     "output_type": "stream",
     "text": [
      "\n",
      "[notice] A new release of pip is available: 23.2.1 -> 23.3.2\n",
      "[notice] To update, run: C:\\Users\\macar\\AppData\\Local\\Microsoft\\WindowsApps\\PythonSoftwareFoundation.Python.3.11_qbz5n2kfra8p0\\python.exe -m pip install --upgrade pip\n"
     ]
    }
   ],
   "source": [
    "%pip install pyautogui"
   ]
  },
  {
   "cell_type": "code",
   "execution_count": 2,
   "metadata": {},
   "outputs": [
    {
     "name": "stdout",
     "output_type": "stream",
     "text": [
      "Point(x=-250, y=370)\n"
     ]
    }
   ],
   "source": [
    "import pyautogui as posicaoMause\n",
    "\n",
    "posicaoMause.sleep(2)\n",
    "\n",
    "\n",
    "\n",
    "posicaoMause.moveTo(x=-507, y=1327)\n",
    "posicaoMause.click(x=-507, y=1327)\n",
    "\n",
    "\n",
    "posicaoMause.sleep(1)\n",
    "posicaoMause.typewrite(\"Edge\")\n",
    "\n",
    "posicaoMause.sleep(1)\n",
    "\n",
    "#print(posicaoMause.position())\n",
    "\n",
    "posicaoMause.moveTo(x=-616, y=782)\n",
    "posicaoMause.click(x=-616, y=782)\n",
    "\n",
    "\n",
    "posicaoMause.sleep(1)\n",
    "\n",
    "print(posicaoMause.position())\n",
    "\n",
    "posicaoMause.moveTo(x=-540, y=52)\n",
    "posicaoMause.click(x=-540, y=52)\n",
    "\n",
    "posicaoMause.sleep(1)\n",
    "posicaoMause.typewrite(\"Cotizacion Dolar\")\n",
    "posicaoMause.press(\"enter\")\n",
    "\n"
   ]
  },
  {
   "cell_type": "markdown",
   "metadata": {},
   "source": [
    "import pyautogui as posicaoAbrir\n",
    "import time\n",
    "\n",
    " posicaoAbrir.sleep(1)\n",
    "posicaoAbrir.hotkey('win', 'r')\n",
    "\n",
    "\n",
    "posicaoAbrir.sleep(1)\n",
    "posicaoAbrir.typewrite(\"notepad\")\n",
    "posicaoAbrir.press(\"enter\")\n",
    "\n",
    "\n",
    "posicaoAbrir.sleep(1)\n",
    "posicaoAbrir.typewrite(\"djdjjdjndsjknjknkadknksndsa\")\n",
    "\n",
    "posicaoAbrir.sleep(3)\n",
    "cerrarVentana = posicaoAbrir.getActiveWindow()\n",
    "cerrarVentana.hotkey('ctrl', 'g')\n",
    "\n",
    "cerrarVentana.close()"
   ]
  },
  {
   "cell_type": "code",
   "execution_count": 45,
   "metadata": {},
   "outputs": [],
   "source": [
    "import pyautogui as posicaoAbrir\n",
    "import time\n",
    "\n",
    "posicaoAbrir.sleep(1)\n",
    "posicaoAbrir.hotkey('win', 'r')\n",
    "\n",
    "\n",
    "posicaoAbrir.sleep(1)\n",
    "posicaoAbrir.typewrite(\"notepad\")\n",
    "posicaoAbrir.press(\"enter\")\n",
    "\n",
    "\n",
    "posicaoAbrir.sleep(1)\n",
    "posicaoAbrir.typewrite(\"djdjjdjndsjknjknkadknksndsa\")\n",
    "\n",
    "posicaoAbrir.sleep(3)\n",
    "cerrarVentana = posicaoAbrir.getActiveWindow()\n",
    "\n",
    "\n",
    "cerrarVentana.close()"
   ]
  },
  {
   "cell_type": "code",
   "execution_count": 11,
   "metadata": {},
   "outputs": [],
   "source": [
    "import pyautogui\n",
    "import pyautogui as escolhaOpcao\n",
    "\n",
    "opcao = pyautogui.confirm(text='Escolha uma opção',\n",
    "                           title='Escolha uma opção', \n",
    "                           buttons=['Brave', 'Edge', 'Chrome'])\n",
    "\n",
    "\n",
    "if opcao == \"Brave\":\n",
    "    escolhaOpcao.sleep(2)\n",
    "    escolhaOpcao.hotkey('win', 'r')\n",
    "    escolhaOpcao.typewrite(\"brave\")\n",
    "    escolhaOpcao.sleep(2)\n",
    "    escolhaOpcao.press(\"enter\")\n",
    "    escolhaOpcao.sleep(3)\n",
    "    #print(escolhaOpcao.position())\n",
    "    posicaoMause.moveTo(x=607, y=47)\n",
    "    posicaoMause.click(x=607, y=47)\n",
    "    escolhaOpcao.sleep(2)\n",
    "    escolhaOpcao.typewrite(\"https://chat.openai.com/\")\n",
    "    escolhaOpcao.sleep(1)\n",
    "    escolhaOpcao.press(\"enter\")\n",
    "\n",
    "\n",
    "elif opcao == \"Edge\":\n",
    "    escolhaOpcao.sleep(2)\n",
    "    escolhaOpcao.hotkey('win', 'r')\n",
    "    escolhaOpcao.typewrite(\"msedge\")\n",
    "    escolhaOpcao.sleep(2)\n",
    "    escolhaOpcao.press(\"enter\")\n",
    "    escolhaOpcao.sleep(3)\n",
    "    #print(escolhaOpcao.position())\n",
    "    posicaoMause.moveTo(x=607, y=47)\n",
    "    posicaoMause.click(x=607, y=47)\n",
    "    escolhaOpcao.sleep(2)\n",
    "    escolhaOpcao.typewrite(\"https://chat.openai.com/\")\n",
    "    escolhaOpcao.sleep(1)\n",
    "    escolhaOpcao.press(\"enter\")\n",
    "\n",
    "else: \n",
    "    escolhaOpcao.sleep(2)\n",
    "    escolhaOpcao.hotkey('win', 'r')\n",
    "    escolhaOpcao.typewrite(\"Chrome\")\n",
    "    escolhaOpcao.sleep(2)\n",
    "    escolhaOpcao.press(\"enter\")\n",
    "    escolhaOpcao.sleep(3)\n",
    "    #print(escolhaOpcao.position())\n",
    "    posicaoMause.moveTo(x=607, y=47)\n",
    "    posicaoMause.click(x=607, y=47)\n",
    "    escolhaOpcao.sleep(2)\n",
    "    escolhaOpcao.typewrite(\"https://chat.openai.com/\")\n",
    "    escolhaOpcao.sleep(1)\n",
    "    escolhaOpcao.press(\"enter\")\n",
    "\n",
    "   \n"
   ]
  }
 ],
 "metadata": {
  "kernelspec": {
   "display_name": "Python 3",
   "language": "python",
   "name": "python3"
  },
  "language_info": {
   "codemirror_mode": {
    "name": "ipython",
    "version": 3
   },
   "file_extension": ".py",
   "mimetype": "text/x-python",
   "name": "python",
   "nbconvert_exporter": "python",
   "pygments_lexer": "ipython3",
   "version": "3.11.7"
  }
 },
 "nbformat": 4,
 "nbformat_minor": 2
}
