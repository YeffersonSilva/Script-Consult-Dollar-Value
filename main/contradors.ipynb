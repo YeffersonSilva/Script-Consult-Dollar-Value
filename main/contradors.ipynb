{
 "cells": [
  {
   "cell_type": "code",
   "execution_count": null,
   "metadata": {},
   "outputs": [],
   "source": [
    "!pip install selenium"
   ]
  },
  {
   "cell_type": "code",
   "execution_count": null,
   "metadata": {},
   "outputs": [],
   "source": [
    "!pip install xlsxwriter"
   ]
  },
  {
   "cell_type": "code",
   "execution_count": null,
   "metadata": {},
   "outputs": [],
   "source": [
    "from selenium import webdriver\n",
    "from selenium.webdriver.common.keys import Keys\n",
    "from selenium.webdriver.common.by import By\n",
    "from selenium.webdriver.support.ui import WebDriverWait\n",
    "from selenium.webdriver.support import expected_conditions as EC\n",
    "import xlsxwriter\n",
    "import os\n",
    "\n",
    "# Configuración del navegador\n",
    "options = webdriver.EdgeOptions()\n",
    "options.add_argument('--headless')  #\n",
    "driver = webdriver.Edge(options=options)\n",
    "\n",
    "# URL del archivo Excel\n",
    "urlArchivo = \"CotizacionMonedas.xlsx\" \n",
    "\n",
    "# Creación de la plantilla Excel\n",
    "plantilla = xlsxwriter.Workbook(urlArchivo)\n",
    "hoja = plantilla.add_worksheet(\"Hoja1\")\n",
    "\n",
    "# Función para obtener cotización\n",
    "def obtener_cotizacion(busqueda):\n",
    "    driver.get(\"https://www.google.com\")\n",
    "    WebDriverWait(driver, 10).until(EC.element_to_be_clickable((By.NAME, \"q\"))).send_keys(busqueda + Keys.ENTER)\n",
    "    resultado = WebDriverWait(driver, 10).until(EC.visibility_of_element_located((By.XPATH, '//*[@id=\"knowledge-currency__updatable-data-column\"]/div[1]/div[2]/span[1]')))\n",
    "    return resultado.text\n",
    "\n",
    "try:\n",
    "    # Obtener cotizaciones\n",
    "    valorDolar = obtener_cotizacion(\"Dolar Hoy\")\n",
    "    print(valorDolar)\n",
    "    valorReal = obtener_cotizacion(\"Real Brasileño Hoy\")\n",
    "    print(valorReal)\n",
    "\n",
    "    # Escribir en Excel\n",
    "    hoja.write(\"A1\", \"Dólar hoy\")\n",
    "    hoja.write(\"B1\", valorDolar)\n",
    "    hoja.write(\"A2\", \"Real Brasileño hoy\")\n",
    "    hoja.write(\"B2\", valorReal)\n",
    "\n",
    "finally:\n",
    "    # Cerrar el navegador y guardar Excel\n",
    "    driver.quit()\n",
    "    plantilla.close()\n",
    "\n",
    "# Abrir el archivo Excel\n",
    "os.startfile(urlArchivo)\n"
   ]
  }
 ],
 "metadata": {
  "language_info": {
   "name": "python"
  }
 },
 "nbformat": 4,
 "nbformat_minor": 2
}
